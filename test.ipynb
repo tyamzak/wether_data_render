{
 "cells": [
  {
   "cell_type": "code",
   "execution_count": 47,
   "metadata": {},
   "outputs": [],
   "source": [
    "import csv\n",
    "import glob\n",
    "from datetime import datetime\n",
    "from collections import deque\n",
    "import pandas as pd\n",
    "import json\n",
    "import decimal\n",
    "\n",
    "\n",
    "decimal.getcontext().prec = 6\n",
    "\n",
    "with open('conf.json', encoding='utf8') as cf:\n",
    "    param = json.load(cf)\n",
    "\n",
    "index = ['temp','humi','time','weather']\n",
    "\n",
    "files = glob.glob(\"CSV/*.csv\")\n",
    "\n",
    "#csv2フォルダに入るファイル\n",
    "csv2 = []\n",
    "\n",
    "with open(files[0], 'r', encoding='ansi') as f:\n",
    "    while True:\n",
    "        line = f.readline()\n",
    "        if not line:\n",
    "            break\n",
    "        items = line.replace('\\n','').split(',')\n",
    "        csv2.append(\n",
    "            decimal.Decimal(items[3]) * decimal.Decimal(param[\"Humid2Ratio\"])\n",
    "        )\n",
    "        \n",
    "        "
   ]
  },
  {
   "cell_type": "code",
   "execution_count": 46,
   "metadata": {},
   "outputs": [
    {
     "data": {
      "text/plain": [
       "[Decimal('0.9200000'),\n",
       " Decimal('0.9400000'),\n",
       " Decimal('0.9200000'),\n",
       " Decimal('0.9200000'),\n",
       " Decimal('0.9400000'),\n",
       " Decimal('0.9400000'),\n",
       " Decimal('0.9400000'),\n",
       " Decimal('0.9400000'),\n",
       " Decimal('0.9600000'),\n",
       " Decimal('0.9600000'),\n",
       " Decimal('0.9600000')]"
      ]
     },
     "execution_count": 46,
     "metadata": {},
     "output_type": "execute_result"
    }
   ],
   "source": [
    "csv2"
   ]
  },
  {
   "cell_type": "code",
   "execution_count": 44,
   "metadata": {},
   "outputs": [
    {
     "name": "stdout",
     "output_type": "stream",
     "text": [
      "5.555556\n"
     ]
    }
   ],
   "source": [
    "import decimal\n",
    "decimal.getcontext().prec = 7\n",
    "a = decimal.Decimal(5.555555555555)\n",
    "b = decimal.Decimal(1)\n",
    "print(a*b)\n"
   ]
  },
  {
   "cell_type": "code",
   "execution_count": null,
   "metadata": {},
   "outputs": [],
   "source": []
  },
  {
   "cell_type": "code",
   "execution_count": null,
   "metadata": {},
   "outputs": [],
   "source": [
    "\n",
    "\n",
    "#CSV形式にて、[元画像ファイル名,出力画像ファイル名,縦横判定,白黒判定,線幅 X 10]\n",
    "csvdata = []\n",
    "\n",
    "for file in files:\n",
    "    pass\n",
    "\n",
    "\n",
    "timestamp = datetime.datetime.now().strftime('%Y%m%d%H%M%S')\n",
    "\n",
    "df = pd.DataFrame(csvdata)\n",
    "df.to_csv(f'after/result{timestamp}.csv')\n",
    "\n",
    "\n",
    "#1行格納しながら変更してしまう\n",
    "    #\n",
    "#処理中の時間取得{7:1}\n",
    "#次の行の格納をしながら変更\n",
    "#処理中の時間と比較\n",
    "    #同じ=>継続{7:2}\n",
    "    #違う=>不足数を確認\n",
    "        #不足数分のステップデータを作成\n",
    "        #処理中の時間取得{8:1}\n",
    "\n",
    "    #データがもうない=>不足数を確認\n",
    "        #不足数分のステップデータを作成\n",
    "\n"
   ]
  },
  {
   "cell_type": "code",
   "execution_count": null,
   "metadata": {},
   "outputs": [],
   "source": [
    "import pandas as pd\n",
    "from datetime import datetime\n",
    "from collections import deque\n",
    "\n",
    "def read_log(path):\n",
    "\n",
    "    cams = dict() # キー=カメラ, 値=日時リスト\n",
    "\n",
    "    with open(path, 'r', encoding='shift_jis', errors='ignore') as f:\n",
    "        read_state = 0\n",
    "        que = deque(maxlen=5)\n",
    "        while True:\n",
    "            line = f.readline()\n",
    "            if not line:\n",
    "                break\n",
    "\n",
    "            que.append(line) # いったん流れた日時行を取得するため直近5行をキューに保持\n",
    "\n",
    "            if read_state == 0:   # 開始行の探索中\n",
    "                if line.startswith('サブリスト: 動体検知開始'):\n",
    "                    line = que[-4] # 日時行\n",
    "                    pos = line.find(' ')\n",
    "                    dt = datetime.strptime(line[pos+1:].strip(), '%Y-%m-%d %H:%M:%S')\n",
    "                    read_state = 1\n",
    "\n",
    "            elif read_state == 1: # カメラ行の探索中\n",
    "                if line.startswith('カメラ No.:'):\n",
    "                    cam = line.split(':')[1].strip()\n",
    "                    if cam not in cams:\n",
    "                        cams[cam] = []\n",
    "                    cams[cam].append(dt)\n",
    "                    read_state = 0\n",
    "\n",
    "    return cams\n",
    "\n",
    "cams = read_log('logBack.txt')\n",
    "print('read_log end.')\n",
    "\n",
    "# 結果をカメラ毎にCSV出力\n",
    "for cam, dts in cams.items():\n",
    "    df = pd.DataFrame({'Date':dts})\n",
    "    df['cnt'] = 1\n",
    "    df = df.set_index('Date')\n",
    "    df = df.resample('H').sum()\n",
    "    df.to_csv(f'{cam}.csv')"
   ]
  }
 ],
 "metadata": {
  "kernelspec": {
   "display_name": "Python 3.9.13 ('venv': venv)",
   "language": "python",
   "name": "python3"
  },
  "language_info": {
   "codemirror_mode": {
    "name": "ipython",
    "version": 3
   },
   "file_extension": ".py",
   "mimetype": "text/x-python",
   "name": "python",
   "nbconvert_exporter": "python",
   "pygments_lexer": "ipython3",
   "version": "3.9.13"
  },
  "orig_nbformat": 4,
  "vscode": {
   "interpreter": {
    "hash": "c3ea1ae9d1f1fb60b4913c009004f7d52a3cbedcd7fa51c86afcd3506dc9af6b"
   }
  }
 },
 "nbformat": 4,
 "nbformat_minor": 2
}
